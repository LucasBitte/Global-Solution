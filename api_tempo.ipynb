{
 "cells": [
  {
   "cell_type": "code",
   "execution_count": null,
   "id": "9885a95b",
   "metadata": {},
   "outputs": [],
   "source": [
    "from datetime import date, timedelta\n",
    "\n",
    "code = \"A508\"  # ou outro código \"Operante\" no catálogo\n",
    "dend = date.today().strftime(\"%Y-%m-%d\")\n",
    "dstart = (date.today() - timedelta(days=1)).strftime(\"%Y-%m-%d\")\n",
    "\n",
    "url = f\"https://apitempo.inmet.gov.br/estacao/{dstart}/{dend}/{code}\"\n",
    "resp = requests.get(url, timeout=30)\n",
    "print(\"Status:\", resp.status_code)\n",
    "print(\"Preview:\", resp.text[:300])"
   ]
  }
 ],
 "metadata": {
  "language_info": {
   "name": "python"
  }
 },
 "nbformat": 4,
 "nbformat_minor": 5
}
